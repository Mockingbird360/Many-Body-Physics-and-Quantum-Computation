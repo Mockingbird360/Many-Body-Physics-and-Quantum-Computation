{
 "cells": [
  {
   "cell_type": "markdown",
   "metadata": {},
   "source": [
    "In this notebook, we express CNOT using native gates for Heisenberg XXX interaction\n"
   ]
  },
  {
   "cell_type": "code",
   "execution_count": 16,
   "metadata": {},
   "outputs": [],
   "source": [
    "from qiskit import QuantumCircuit, Aer, assemble\n",
    "from qiskit.quantum_info.operators import Operator\n",
    "from qiskit import *\n",
    "import numpy as np"
   ]
  },
  {
   "cell_type": "markdown",
   "metadata": {},
   "source": [
    "Set up two qubits"
   ]
  },
  {
   "cell_type": "code",
   "execution_count": 17,
   "metadata": {},
   "outputs": [
    {
     "data": {
      "image/png": "[encoded data removed]",
      "text/plain": [
       "<Figure size 116.552x144.48 with 1 Axes>"
      ]
     },
     "execution_count": 17,
     "metadata": {},
     "output_type": "execute_result"
    }
   ],
   "source": [
    "qbits = QuantumCircuit(2)\n",
    "qbits.draw('mpl')"
   ]
  },
  {
   "cell_type": "markdown",
   "metadata": {},
   "source": [
    "Define the HeisGate on two qubits by ${\\rm HEIS}(\\alpha) = e^{- i \\alpha/4} e^{- i \\alpha \\bf{S}^{(1)}\\cdot\\bf{S}^{(2)}}$,"
   ]
  },
  {
   "cell_type": "code",
   "execution_count": 3,
   "metadata": {},
   "outputs": [],
   "source": [
    "def Heis_gate(alpha):\n",
    "    return np.array([\n",
    "            [np.exp(- 1.0j * alpha/2),  0.0, 0.0,  0.0],\n",
    "            [0.0,  np.cos(alpha/2), -1.0j * np.sin(alpha/2),  0.0],\n",
    "            [0.0,  -1.0j * np.sin(alpha/2), np.cos(alpha/2),  0.0],\n",
    "            [0.0,  0.0, 0.0, np.exp(- 1.0j * alpha/2)]\n",
    "            ])"
   ]
  },
  {
   "cell_type": "code",
   "execution_count": 4,
   "metadata": {},
   "outputs": [
    {
     "data": {
      "text/plain": [
       "array([[0.-1.j, 0.+0.j, 0.+0.j, 0.+0.j],\n",
       "       [0.+0.j, 0.+0.j, 0.-1.j, 0.+0.j],\n",
       "       [0.+0.j, 0.-1.j, 0.+0.j, 0.+0.j],\n",
       "       [0.+0.j, 0.+0.j, 0.+0.j, 0.-1.j]])"
      ]
     },
     "execution_count": 4,
     "metadata": {},
     "output_type": "execute_result"
    }
   ],
   "source": [
    "np.around(Heis_gate(np.pi),4)"
   ]
  },
  {
   "cell_type": "markdown",
   "metadata": {},
   "source": [
    "Check unitarity of ${\\rm HEIS}(\\alpha)$"
   ]
  },
  {
   "cell_type": "code",
   "execution_count": 5,
   "metadata": {},
   "outputs": [
    {
     "name": "stdout",
     "output_type": "stream",
     "text": [
      "Product Conjugate[HEIS(alpha) times HEIS(alpha)\n",
      "\n",
      "[[1.+0.j 0.+0.j 0.+0.j 0.+0.j]\n",
      " [0.+0.j 1.+0.j 0.+0.j 0.+0.j]\n",
      " [0.+0.j 0.+0.j 1.+0.j 0.+0.j]\n",
      " [0.+0.j 0.+0.j 0.+0.j 1.+0.j]]\n"
     ]
    }
   ],
   "source": [
    "alpha=np.pi/7\n",
    "\n",
    "#print(np.around(Unit_Heis,4))\n",
    "#print(\"\")\n",
    "Unit_Heis = Heis_gate(alpha)\n",
    "Unit_Heis_dag=np.conj(Heis_gate(alpha).T)\n",
    "\n",
    "# print(np.around(Unit_Heis_dag,4))\n",
    "# print(\"\")\n",
    "\n",
    "print(\"Product Conjugate[HEIS(alpha) times HEIS(alpha)\")\n",
    "print()\n",
    "print(np.around(np.dot(Unit_Heis,Unit_Heis_dag),2))"
   ]
  },
  {
   "cell_type": "markdown",
   "metadata": {},
   "source": [
    "Note that ${\\rm HEIS}(\\pi/2)$ represents the square root of SWAP"
   ]
  },
  {
   "cell_type": "code",
   "execution_count": 6,
   "metadata": {},
   "outputs": [
    {
     "name": "stdout",
     "output_type": "stream",
     "text": [
      "HEIS gate at alpha = pi/2\n",
      "\n",
      "[[0.7071-0.7071j 0.    +0.j     0.    +0.j     0.    +0.j    ]\n",
      " [0.    +0.j     0.7071+0.j     0.    -0.7071j 0.    +0.j    ]\n",
      " [0.    +0.j     0.    -0.7071j 0.7071+0.j     0.    +0.j    ]\n",
      " [0.    +0.j     0.    +0.j     0.    +0.j     0.7071-0.7071j]]\n",
      "\n",
      "Taking the square\n",
      "\n",
      "[[0.-1.j 0.+0.j 0.+0.j 0.+0.j]\n",
      " [0.+0.j 0.+0.j 0.-1.j 0.+0.j]\n",
      " [0.+0.j 0.-1.j 0.+0.j 0.+0.j]\n",
      " [0.+0.j 0.+0.j 0.+0.j 0.-1.j]]\n"
     ]
    }
   ],
   "source": [
    "alpha=np.pi/2\n",
    "\n",
    "print(\"HEIS gate at alpha = pi/2\")\n",
    "print()\n",
    "print(np.around(Heis_gate(alpha),4))\n",
    "print()\n",
    "\n",
    "print(\"Taking the square\")\n",
    "print()\n",
    "print(np.around(np.dot(Heis_gate(alpha),Heis_gate(alpha)),2))"
   ]
  },
  {
   "cell_type": "markdown",
   "metadata": {},
   "source": [
    "Now build a circuit that compiles CNOT into native gates for Heisenberg spin qubits"
   ]
  },
  {
   "cell_type": "code",
   "execution_count": 10,
   "metadata": {},
   "outputs": [
    {
     "data": {
      "text/plain": [
       "<qiskit.circuit.instructionset.InstructionSet at 0x160ce1ee280>"
      ]
     },
     "execution_count": 10,
     "metadata": {},
     "output_type": "execute_result"
    }
   ],
   "source": [
    "qbits = QuantumCircuit(2) \n",
    "Heis_gate_op = Operator(Heis_gate(np.pi/2))\n",
    "qbits.h(1)\n",
    "qbits.unitary(Heis_gate_op,[0,1], label = 'Sqrt(HEIS)')\n",
    "qbits.z(0)\n",
    "qbits.unitary(Heis_gate_op,[0,1], label = 'Sqrt(HEIS)')\n",
    "qbits.s(0)\n",
    "qbits.s(1)\n",
    "qbits.z(1) \n",
    "qbits.h(1)\n"
   ]
  },
  {
   "cell_type": "code",
   "execution_count": 11,
   "metadata": {},
   "outputs": [
    {
     "data": {
      "image/png": "[encoded data removed]",
      "text/plain": [
       "<Figure size 628.252x144.48 with 1 Axes>"
      ]
     },
     "execution_count": 11,
     "metadata": {},
     "output_type": "execute_result"
    }
   ],
   "source": [
    "qbits.draw('mpl')"
   ]
  },
  {
   "cell_type": "markdown",
   "metadata": {},
   "source": [
    "Extract representation as unitary matrix to check that this acts as CNOT"
   ]
  },
  {
   "cell_type": "code",
   "execution_count": 12,
   "metadata": {},
   "outputs": [
    {
     "name": "stdout",
     "output_type": "stream",
     "text": [
      "Operator([[-0.-1.j, -0.+0.j, -0.+0.j, -0.+0.j],\n",
      "          [ 0.+0.j,  0.+0.j, -0.+0.j, -0.-1.j],\n",
      "          [ 0.+0.j,  0.-0.j, -0.-1.j,  0.-0.j],\n",
      "          [ 0.+0.j, -0.-1.j, -0.+0.j,  0.+0.j]],\n",
      "         input_dims=(2, 2), output_dims=(2, 2))\n"
     ]
    }
   ],
   "source": [
    "usim = Aer.get_backend('unitary_simulator')\n",
    "\n",
    "job = execute(qbits,usim)\n",
    "result = job.result()\n",
    "\n",
    "print(result.get_unitary(qbits, decimals=3))"
   ]
  },
  {
   "cell_type": "markdown",
   "metadata": {},
   "source": [
    "With CNOT added the circuit acts as the identity"
   ]
  },
  {
   "cell_type": "code",
   "execution_count": 13,
   "metadata": {},
   "outputs": [],
   "source": [
    "qnew = qbits.cx(0,1)"
   ]
  },
  {
   "cell_type": "code",
   "execution_count": 14,
   "metadata": {},
   "outputs": [
    {
     "data": {
      "image/png": "[encoded data removed]",
      "text/plain": [
       "<Figure size 688.452x144.48 with 1 Axes>"
      ]
     },
     "execution_count": 14,
     "metadata": {},
     "output_type": "execute_result"
    }
   ],
   "source": [
    "qbits.draw('mpl')"
   ]
  },
  {
   "cell_type": "code",
   "execution_count": 15,
   "metadata": {},
   "outputs": [
    {
     "name": "stdout",
     "output_type": "stream",
     "text": [
      "Operator([[-0.-1.j, -0.+0.j, -0.+0.j, -0.+0.j],\n",
      "          [ 0.+0.j, -0.-1.j, -0.+0.j,  0.+0.j],\n",
      "          [ 0.+0.j,  0.-0.j, -0.-1.j,  0.-0.j],\n",
      "          [ 0.+0.j,  0.+0.j, -0.+0.j, -0.-1.j]],\n",
      "         input_dims=(2, 2), output_dims=(2, 2))\n"
     ]
    }
   ],
   "source": [
    "job = execute(qbits,usim)\n",
    "result = job.result()\n",
    "\n",
    "print(result.get_unitary(qbits, decimals=3))"
   ]
  }
 ],
 "metadata": {
  "kernelspec": {
   "display_name": "Python 3.9.5 64-bit",
   "language": "python",
   "name": "python3"
  },
  "language_info": {
   "codemirror_mode": {
    "name": "ipython",
    "version": 3
   },
   "file_extension": ".py",
   "mimetype": "text/x-python",
   "name": "python",
   "nbconvert_exporter": "python",
   "pygments_lexer": "ipython3",
   "version": "3.9.5"
  },
  "vscode": {
   "interpreter": {
    "hash": "cf92aa13fedf815d5c8dd192b8d835913fde3e8bc926b2a0ad6cc74ef2ba3ca2"
   }
  }
 },
 "nbformat": 4,
 "nbformat_minor": 2
}
